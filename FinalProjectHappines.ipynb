{
 "cells": [
  {
   "cell_type": "markdown",
   "metadata": {},
   "source": [
    "# Final Project Big Data Analytics\n",
    "Oleh Muhammad Sidhiq Setyawan"
   ]
  },
  {
   "cell_type": "markdown",
   "metadata": {},
   "source": [
    "## Introduction\n",
    "------\n",
    "#### Tentang World Happiness Report \n",
    "World Happiness Report adalah survei tengara dari kondisi kebahagiaan global. Laporan pertama diterbitkan pada 2012, yang kedua di 2013, yang ketiga di 2015, dan yang keempat di Pembaruan 2016. World Happiness 2017, yang berada di peringkat 155 negara berdasarkan tingkat kebahagiaannya, dirilis di PBB pada acara yang merayakan Hari Kebahagiaan Internasional pada 20 Maret. Laporan ini terus mendapatkan pengakuan global karena pemerintah, organisasi dan masyarakat sipil semakin menggunakan indikator kebahagiaan untuk menginformasikan keputusan pembuatan kebijakan mereka. Pakar terkemuka di berbagai bidang - ekonomi, psikologi, analisis survei, statistik nasional, kesehatan, kebijakan publik, dan lainnya - menggambarkan bagaimana pengukuran kesejahteraan dapat digunakan secara efektif untuk menilai kemajuan negara. Laporan tersebut meninjau keadaan kebahagiaan di dunia saat ini dan menunjukkan bagaimana ilmu kebahagiaan yang baru menjelaskan variasi kebahagiaan pribadi dan nasional."
   ]
  },
  {
   "cell_type": "code",
   "execution_count": null,
   "metadata": {},
   "outputs": [],
   "source": []
  },
  {
   "cell_type": "markdown",
   "metadata": {},
   "source": [
    "## Preparation"
   ]
  },
  {
   "cell_type": "code",
   "execution_count": 1,
   "metadata": {},
   "outputs": [],
   "source": [
    "import numpy as np\n",
    "import pandas as pd\n",
    "import matplotlib.pyplot as plt\n",
    "%matplotlib inline\n",
    "import seaborn as sns\n",
    "from sklearn.metrics import mean_absolute_error\n",
    "from sklearn.metrics import mean_squared_error\n",
    "from sklearn.metrics import r2_score\n",
    "from sklearn import feature_selection, linear_model\n",
    "import statsmodels.api as sm\n",
    "from sklearn.model_selection import train_test_split\n",
    "from sklearn.linear_model import LinearRegression\n",
    "from sklearn import cluster, mixture \n",
    "from sklearn.preprocessing import StandardScaler\n",
    "# import plotly.offline as py\n",
    "# py.init_notebook_mode(connected=True)\n",
    "# import plotly.graph_objs as go\n",
    "# import plotly.tools as tls\n",
    "# import plotly.express as px\n",
    "from scipy import stats\n",
    "from mlxtend.preprocessing import minmax_scaling\n",
    "pd.options.mode.chained_assignment = None\n",
    "pd.options.display.max_columns = 999"
   ]
  },
  {
   "cell_type": "code",
   "execution_count": 2,
   "metadata": {},
   "outputs": [
    {
     "data": {
      "text/html": [
       "<div>\n",
       "<style scoped>\n",
       "    .dataframe tbody tr th:only-of-type {\n",
       "        vertical-align: middle;\n",
       "    }\n",
       "\n",
       "    .dataframe tbody tr th {\n",
       "        vertical-align: top;\n",
       "    }\n",
       "\n",
       "    .dataframe thead th {\n",
       "        text-align: right;\n",
       "    }\n",
       "</style>\n",
       "<table border=\"1\" class=\"dataframe\">\n",
       "  <thead>\n",
       "    <tr style=\"text-align: right;\">\n",
       "      <th></th>\n",
       "      <th>Country</th>\n",
       "      <th>Happiness.Rank</th>\n",
       "      <th>Happiness.Score</th>\n",
       "      <th>Whisker.high</th>\n",
       "      <th>Whisker.low</th>\n",
       "      <th>Economy..GDP.per.Capita.</th>\n",
       "      <th>Family</th>\n",
       "      <th>Health..Life.Expectancy.</th>\n",
       "      <th>Freedom</th>\n",
       "      <th>Generosity</th>\n",
       "      <th>Trust..Government.Corruption.</th>\n",
       "      <th>Dystopia.Residual</th>\n",
       "    </tr>\n",
       "  </thead>\n",
       "  <tbody>\n",
       "    <tr>\n",
       "      <th>0</th>\n",
       "      <td>Norway</td>\n",
       "      <td>1</td>\n",
       "      <td>7.537</td>\n",
       "      <td>7.594445</td>\n",
       "      <td>7.479556</td>\n",
       "      <td>1.616463</td>\n",
       "      <td>1.533524</td>\n",
       "      <td>0.796667</td>\n",
       "      <td>0.635423</td>\n",
       "      <td>0.362012</td>\n",
       "      <td>0.315964</td>\n",
       "      <td>2.277027</td>\n",
       "    </tr>\n",
       "    <tr>\n",
       "      <th>1</th>\n",
       "      <td>Denmark</td>\n",
       "      <td>2</td>\n",
       "      <td>7.522</td>\n",
       "      <td>7.581728</td>\n",
       "      <td>7.462272</td>\n",
       "      <td>1.482383</td>\n",
       "      <td>1.551122</td>\n",
       "      <td>0.792566</td>\n",
       "      <td>0.626007</td>\n",
       "      <td>0.355280</td>\n",
       "      <td>0.400770</td>\n",
       "      <td>2.313707</td>\n",
       "    </tr>\n",
       "    <tr>\n",
       "      <th>2</th>\n",
       "      <td>Iceland</td>\n",
       "      <td>3</td>\n",
       "      <td>7.504</td>\n",
       "      <td>7.622030</td>\n",
       "      <td>7.385970</td>\n",
       "      <td>1.480633</td>\n",
       "      <td>1.610574</td>\n",
       "      <td>0.833552</td>\n",
       "      <td>0.627163</td>\n",
       "      <td>0.475540</td>\n",
       "      <td>0.153527</td>\n",
       "      <td>2.322715</td>\n",
       "    </tr>\n",
       "    <tr>\n",
       "      <th>3</th>\n",
       "      <td>Switzerland</td>\n",
       "      <td>4</td>\n",
       "      <td>7.494</td>\n",
       "      <td>7.561772</td>\n",
       "      <td>7.426227</td>\n",
       "      <td>1.564980</td>\n",
       "      <td>1.516912</td>\n",
       "      <td>0.858131</td>\n",
       "      <td>0.620071</td>\n",
       "      <td>0.290549</td>\n",
       "      <td>0.367007</td>\n",
       "      <td>2.276716</td>\n",
       "    </tr>\n",
       "    <tr>\n",
       "      <th>4</th>\n",
       "      <td>Finland</td>\n",
       "      <td>5</td>\n",
       "      <td>7.469</td>\n",
       "      <td>7.527542</td>\n",
       "      <td>7.410458</td>\n",
       "      <td>1.443572</td>\n",
       "      <td>1.540247</td>\n",
       "      <td>0.809158</td>\n",
       "      <td>0.617951</td>\n",
       "      <td>0.245483</td>\n",
       "      <td>0.382612</td>\n",
       "      <td>2.430182</td>\n",
       "    </tr>\n",
       "  </tbody>\n",
       "</table>\n",
       "</div>"
      ],
      "text/plain": [
       "       Country  Happiness.Rank  Happiness.Score  Whisker.high  Whisker.low  \\\n",
       "0       Norway               1            7.537      7.594445     7.479556   \n",
       "1      Denmark               2            7.522      7.581728     7.462272   \n",
       "2      Iceland               3            7.504      7.622030     7.385970   \n",
       "3  Switzerland               4            7.494      7.561772     7.426227   \n",
       "4      Finland               5            7.469      7.527542     7.410458   \n",
       "\n",
       "   Economy..GDP.per.Capita.    Family  Health..Life.Expectancy.   Freedom  \\\n",
       "0                  1.616463  1.533524                  0.796667  0.635423   \n",
       "1                  1.482383  1.551122                  0.792566  0.626007   \n",
       "2                  1.480633  1.610574                  0.833552  0.627163   \n",
       "3                  1.564980  1.516912                  0.858131  0.620071   \n",
       "4                  1.443572  1.540247                  0.809158  0.617951   \n",
       "\n",
       "   Generosity  Trust..Government.Corruption.  Dystopia.Residual  \n",
       "0    0.362012                       0.315964           2.277027  \n",
       "1    0.355280                       0.400770           2.313707  \n",
       "2    0.475540                       0.153527           2.322715  \n",
       "3    0.290549                       0.367007           2.276716  \n",
       "4    0.245483                       0.382612           2.430182  "
      ]
     },
     "execution_count": 2,
     "metadata": {},
     "output_type": "execute_result"
    }
   ],
   "source": [
    "df = pd.read_csv('Dataset/2017.csv')\n",
    "df.head()"
   ]
  },
  {
   "cell_type": "code",
   "execution_count": 3,
   "metadata": {},
   "outputs": [
    {
     "name": "stdout",
     "output_type": "stream",
     "text": [
      "cek dimensi: \n",
      " (155, 12)\n",
      "\n",
      "cek data NaN : \n",
      " Country                          0\n",
      "Happiness.Rank                   0\n",
      "Happiness.Score                  0\n",
      "Whisker.high                     0\n",
      "Whisker.low                      0\n",
      "Economy..GDP.per.Capita.         0\n",
      "Family                           0\n",
      "Health..Life.Expectancy.         0\n",
      "Freedom                          0\n",
      "Generosity                       0\n",
      "Trust..Government.Corruption.    0\n",
      "Dystopia.Residual                0\n",
      "dtype: int64\n",
      "\n",
      "cek value setiap column: \n",
      " Country                          155\n",
      "Happiness.Rank                   155\n",
      "Happiness.Score                  151\n",
      "Whisker.high                     155\n",
      "Whisker.low                      155\n",
      "Economy..GDP.per.Capita.         155\n",
      "Family                           155\n",
      "Health..Life.Expectancy.         155\n",
      "Freedom                          155\n",
      "Generosity                       155\n",
      "Trust..Government.Corruption.    155\n",
      "Dystopia.Residual                155\n",
      "dtype: int64\n",
      "<class 'pandas.core.frame.DataFrame'>\n",
      "RangeIndex: 155 entries, 0 to 154\n",
      "Data columns (total 12 columns):\n",
      "Country                          155 non-null object\n",
      "Happiness.Rank                   155 non-null int64\n",
      "Happiness.Score                  155 non-null float64\n",
      "Whisker.high                     155 non-null float64\n",
      "Whisker.low                      155 non-null float64\n",
      "Economy..GDP.per.Capita.         155 non-null float64\n",
      "Family                           155 non-null float64\n",
      "Health..Life.Expectancy.         155 non-null float64\n",
      "Freedom                          155 non-null float64\n",
      "Generosity                       155 non-null float64\n",
      "Trust..Government.Corruption.    155 non-null float64\n",
      "Dystopia.Residual                155 non-null float64\n",
      "dtypes: float64(10), int64(1), object(1)\n",
      "memory usage: 14.6+ KB\n",
      "None\n",
      "\n",
      "describe dataframe: \n",
      "        Happiness.Rank  Happiness.Score  Whisker.high  Whisker.low  \\\n",
      "count      155.000000       155.000000    155.000000   155.000000   \n",
      "mean        78.000000         5.354019      5.452326     5.255713   \n",
      "std         44.888751         1.131230      1.118542     1.145030   \n",
      "min          1.000000         2.693000      2.864884     2.521116   \n",
      "25%         39.500000         4.505500      4.608172     4.374955   \n",
      "50%         78.000000         5.279000      5.370032     5.193152   \n",
      "75%        116.500000         6.101500      6.194600     6.006527   \n",
      "max        155.000000         7.537000      7.622030     7.479556   \n",
      "\n",
      "       Economy..GDP.per.Capita.      Family  Health..Life.Expectancy.  \\\n",
      "count                155.000000  155.000000                155.000000   \n",
      "mean                   0.984718    1.188898                  0.551341   \n",
      "std                    0.420793    0.287263                  0.237073   \n",
      "min                    0.000000    0.000000                  0.000000   \n",
      "25%                    0.663371    1.042635                  0.369866   \n",
      "50%                    1.064578    1.253918                  0.606042   \n",
      "75%                    1.318027    1.414316                  0.723008   \n",
      "max                    1.870766    1.610574                  0.949492   \n",
      "\n",
      "          Freedom  Generosity  Trust..Government.Corruption.  \\\n",
      "count  155.000000  155.000000                     155.000000   \n",
      "mean     0.408786    0.246883                       0.123120   \n",
      "std      0.149997    0.134780                       0.101661   \n",
      "min      0.000000    0.000000                       0.000000   \n",
      "25%      0.303677    0.154106                       0.057271   \n",
      "50%      0.437454    0.231538                       0.089848   \n",
      "75%      0.516561    0.323762                       0.153296   \n",
      "max      0.658249    0.838075                       0.464308   \n",
      "\n",
      "       Dystopia.Residual  \n",
      "count         155.000000  \n",
      "mean            1.850238  \n",
      "std             0.500028  \n",
      "min             0.377914  \n",
      "25%             1.591291  \n",
      "50%             1.832910  \n",
      "75%             2.144654  \n",
      "max             3.117485  \n"
     ]
    }
   ],
   "source": [
    "print('cek dimensi: \\n',df.shape)\n",
    "print('\\ncek data NaN : \\n',df.isnull().sum())\n",
    "print('\\ncek value setiap column: \\n',df.nunique())\n",
    "print(df.info())\n",
    "print('\\ndescribe dataframe: \\n',df.describe())"
   ]
  },
  {
   "cell_type": "code",
   "execution_count": null,
   "metadata": {},
   "outputs": [],
   "source": []
  },
  {
   "cell_type": "markdown",
   "metadata": {},
   "source": [
    "#### Memahami Variabel dalam Dataset\n",
    "\n",
    "Dataset memiliki 15 variabel termasuk ID. Karena ID adalah level dataset, kita dapat menetapkannya sebagai indeks data nanti. Variabel seperti nama, mata uang, tenggat waktu, tanggal diluncurkan dan negara sebagai penjelasan sendiri. Penjelasan dari beberapa variabel kunci adalah sebagai berikut:\n",
    "\n",
    "main_category: Ada 15 kategori utama untuk proyek ini. Kategori-kategori utama ini secara luas mengklasifikasikan proyek berdasarkan topik dan genre yang dimilikinya.\n",
    "\n",
    "category: Kategori Utama selanjutnya dibagi ke dalam beberapa kategori untuk memberikan gagasan proyek yang lebih umum. Misalnya, Kategori Utama \"Teknologi\" memiliki 15 kategori seperti Gadget, Web, Aplikasi, Perangkat Lunak, dll. Ada 159 kategori total.\n",
    "\n",
    "goal: Ini adalah jumlah sasaran yang harus dikumpulkan perusahaan untuk memulai proyeknya. Jumlah sasaran adalah variabel penting bagi perusahaan karena jika terlalu tinggi, proyek mungkin gagal mengumpulkan jumlah uang itu dan tidak berhasil. Jika terlalu rendah, maka mungkin akan mencapai tujuannya segera dan pendukung mungkin tidak tertarik untuk berjanji lebih.\n",
    "\n",
    "pledged: Ini adalah jumlah yang dikumpulkan oleh perusahaan melalui para pendukungnya. Di Kickstarter, jika jumlah total yang dijanjikan lebih rendah dari sasaran, maka proyek tidak berhasil dan perusahaan pemula tidak menerima dana apa pun. Jika jumlah yang dijanjikan lebih dari sasaran, perusahaan dianggap berhasil. Variabel \"usd pledged\" adalah jumlah uang yang diperoleh dalam dolar AS.\n",
    "\n",
    "backers: Ini adalah jumlah orang yang telah mendukung proyek dengan menjanjikan sejumlah uang."
   ]
  },
  {
   "cell_type": "code",
   "execution_count": null,
   "metadata": {},
   "outputs": [],
   "source": [
    "## Menghapus kolom yang tidak terpakai/duplikat\n",
    "df_train = df.drop(['Whisker.high','Whisker.low'], axis=1)\n",
    "## Menambah kolom baru\n",
    "# df_train['percent_funded'] =(df_train.usd_pledged_real / df_train.usd_goal_real)\n",
    "\n",
    "# for value in df_train.percent_funded:\n",
    "#     np.around(value, decimals=1)\n",
    "    \n",
    "df_train.head()"
   ]
  },
  {
   "cell_type": "markdown",
   "metadata": {},
   "source": [
    "### 1. Berdasarkan dataset yang dipilih, buatlah Scatter Plot untuk masing-masing features [Score: 15]\n",
    "##### Scatterplot semua data"
   ]
  },
  {
   "cell_type": "code",
   "execution_count": null,
   "metadata": {},
   "outputs": [],
   "source": [
    "sns.pairplot(df_train)"
   ]
  },
  {
   "cell_type": "code",
   "execution_count": null,
   "metadata": {},
   "outputs": [],
   "source": [
    "df_train.corr()"
   ]
  },
  {
   "cell_type": "markdown",
   "metadata": {},
   "source": [
    "### 2. Berdasarkan pola data dari scatter plot (No. 1), pilih 2 features yang memiliki dugaan kuat ada korelasi. Narasikan alasannya! [Score: 10]\n",
    "###### Korelasi Antara Data"
   ]
  },
  {
   "cell_type": "code",
   "execution_count": null,
   "metadata": {},
   "outputs": [],
   "source": [
    "sns.heatmap(df_train.corr(), annot=True)"
   ]
  },
  {
   "cell_type": "markdown",
   "metadata": {},
   "source": [
    "Setelah melihat heatmap diatas, yang memungkinkan untuk berkorelasi adalah warna cerah, karena semakin cerah akan mendekati 1, yang artinya sangat berkorelasi. Didapatkan nilai 0.843077 untuk korelasi 'Economy..GDP.per.Capita.' dengan 'Health..Life.Expectancy.'."
   ]
  },
  {
   "cell_type": "code",
   "execution_count": null,
   "metadata": {},
   "outputs": [],
   "source": [
    "sns.lmplot('Economy..GDP.per.Capita.', 'Health..Life.Expectancy.', df_train)"
   ]
  },
  {
   "cell_type": "markdown",
   "metadata": {},
   "source": [
    "### 3. Buatlah statistik deskriptif dari beberapa 2 features yang dipilih. Berikan narasi terhadap statistik tersebut [Score: 20]\n",
    "##### Statistik deskriptif"
   ]
  },
  {
   "cell_type": "code",
   "execution_count": null,
   "metadata": {},
   "outputs": [],
   "source": [
    "df_train.describe()"
   ]
  },
  {
   "cell_type": "markdown",
   "metadata": {},
   "source": [
    "### 4. Dari 2 features yang dipilih tersebut (No. 3), buatlah analisis model regresi (linear atau nonlinear). Jenis model regresi yang dipilih harus menyesuaikan pola sebaran data dari scatter plot. Model yang telah dibuat harus ditunjukkan secara visual dg grafik, serta tunjukkan tingkat keakuratannya (bisa menggunakan sembarang metrik) [Score: 25]"
   ]
  },
  {
   "cell_type": "markdown",
   "metadata": {},
   "source": [
    "##### Analisis Model Regresi"
   ]
  },
  {
   "cell_type": "code",
   "execution_count": null,
   "metadata": {},
   "outputs": [],
   "source": [
    "## Analisis Model Regresi\n",
    "msk = np.random.rand(len(df_train)) < 0.8\n",
    "train = df_train[msk]\n",
    "test = df_train[~msk]\n",
    "\n",
    "regr = linear_model.LinearRegression()\n",
    "train_x = np.asanyarray(train[['Economy..GDP.per.Capita.']])\n",
    "train_y = np.asanyarray(train[['Health..Life.Expectancy.']])\n",
    "regr.fit (train_x, train_y)\n",
    "# The coefficients\n",
    "print ('Coefficients: ', regr.coef_)\n",
    "print ('Intercept: ',regr.intercept_)"
   ]
  },
  {
   "cell_type": "markdown",
   "metadata": {},
   "source": [
    "Scatterplot pada korelasi Economy..GDP.per.Capita. dengan Health..Life.Expectancy. menunjukkan penggunaan regressi linear sebagai solusi\n",
    "##### Regresi Linear"
   ]
  },
  {
   "cell_type": "code",
   "execution_count": null,
   "metadata": {},
   "outputs": [],
   "source": [
    "## Regresi Linear\n",
    "plt.scatter(train[['Economy..GDP.per.Capita.']], train[['Health..Life.Expectancy.']],  color='blue')\n",
    "plt.plot(train_x, regr.coef_[0][0]*train_x + regr.intercept_[0], '-r')\n",
    "plt.xlabel(\"Economy..GDP.per.Capita.\")\n",
    "plt.ylabel(\"Health..Life.Expectancy.\")"
   ]
  },
  {
   "cell_type": "markdown",
   "metadata": {},
   "source": [
    "##### Model Evaluation"
   ]
  },
  {
   "cell_type": "code",
   "execution_count": null,
   "metadata": {},
   "outputs": [],
   "source": [
    "from sklearn.metrics import r2_score\n",
    "\n",
    "test_x = np.asanyarray(test[['Economy..GDP.per.Capita.']])\n",
    "test_y = np.asanyarray(test[['Health..Life.Expectancy.']])\n",
    "test_y_ = regr.predict(test_x)\n",
    "\n",
    "print(\"Mean absolute error: %.2f\" % np.mean(np.absolute(test_y_ - test_y)))\n",
    "print(\"Residual sum of squares (MSE): %.2f\" % np.mean((test_y_ - test_y) ** 2))\n",
    "print(\"R2-score: %.2f\" % r2_score(test_y_ , test_y) )"
   ]
  },
  {
   "cell_type": "markdown",
   "metadata": {},
   "source": [
    "### 5. Terhadap dataset yang diperoleh, lakukan pula analisis berikutnya (pilih salah satu): [Score: 30]"
   ]
  },
  {
   "cell_type": "code",
   "execution_count": null,
   "metadata": {},
   "outputs": [],
   "source": [
    "#Ignore Country and Happiness_Rank Columns\n",
    "df_train = df_train.iloc[:,2:]\n",
    "\n",
    "print(\"\\n \\n Dimenstion of dataset  : df_train.shape\")\n",
    "df_train.shape\n",
    "\n",
    "df_train.dtypes\n",
    "\n",
    "# Instantiate Scaler Object \n",
    "ss = StandardScaler()\n",
    "# Fit and transform \n",
    "ss.fit_transform(df_train)\n",
    "df_train.sample(20)"
   ]
  },
  {
   "cell_type": "code",
   "execution_count": null,
   "metadata": {},
   "outputs": [],
   "source": [
    "# Define CluserMethod class : which returns the clustering result based on input \n",
    "\n",
    "class ClusterMethodList(object) :\n",
    "    def get_cluster_instance(self, argument,input_data,X):\n",
    "        method_name = str(argument).lower()+ '_cluster'\n",
    "        method = getattr(self,method_name,lambda : \"Invalid Clustering method\")\n",
    "        return method(input_data,X)\n",
    "    \n",
    "    def kmeans_cluster(self,input_data,X):\n",
    "        km = cluster.KMeans(n_clusters =input_data['n_clusters'] )\n",
    "        return km.fit_predict(X)\n",
    "   \n",
    "    def meanshift_cluster(self,input_data,X):\n",
    "        ms = cluster.MeanShift(bandwidth=input_data['bandwidth'])\n",
    "        return  ms.fit_predict(X)\n",
    "    \n",
    "    def minibatchkmeans_cluster(self,input_data,X):\n",
    "        two_means = cluster.MiniBatchKMeans(n_clusters=input_data['n_clusters'])\n",
    "        return two_means.fit_predict(X)\n",
    "   \n",
    "    def dbscan_cluster(self,input_data,X):\n",
    "        db = cluster.DBSCAN(eps=input_data['eps'])\n",
    "        return db.fit_predict(X)\n",
    "    \n",
    "    def spectral_cluster(self,input_data,X):\n",
    "        sp = cluster.SpectralClustering(n_clusters=input_data['n_clusters'])\n",
    "        return sp.fit_predict(X)\n",
    "   \n",
    "    def affinitypropagation_cluster(self,input_data,X):\n",
    "        affinity_propagation =  cluster.AffinityPropagation(damping=input_data['damping'], preference=input_data['preference'])\n",
    "        affinity_propagation.fit(X)\n",
    "        return affinity_propagation.predict(X)\n",
    "       \n",
    "    \n",
    "    def birch_cluster(self,input_data,X):\n",
    "        birch = cluster.Birch(n_clusters=input_data['n_clusters'])\n",
    "        return birch.fit_predict(X)\n",
    "   \n",
    "    def gaussian_mixture_cluster(self,input_data,X):\n",
    "        gmm = mixture.GaussianMixture( n_components=input_data['n_clusters'], covariance_type='full')\n",
    "        gmm.fit(X)\n",
    "        return  gmm.predict(X)"
   ]
  },
  {
   "cell_type": "code",
   "execution_count": null,
   "metadata": {},
   "outputs": [],
   "source": [
    "# Define Clustering Prcoess\n",
    "\n",
    "def startClusteringProcess(list_cluster_method,input_data,no_columns,data_set):\n",
    "    fig,ax = plt.subplots(no_rows,no_columns, figsize=(10,10)) \n",
    "    cluster_list = ClusterMethodList()\n",
    "    i = 0\n",
    "    j=0\n",
    "    for cl in list_cluster_method :\n",
    "        cluster_result = cluster_list.get_cluster_instance(cl,input_data,data_set)\n",
    "        #convert cluster result array to DataFrame\n",
    "        data_set[cl] = pd.DataFrame(cluster_result)\n",
    "        ax[i,j].scatter(data_set.iloc[:, 4], data_set.iloc[:, 5],  c=cluster_result)\n",
    "        ax[i,j].set_title(cl+\" Cluster Result\")\n",
    "        j=j+1\n",
    "        if( j % no_columns == 0) :\n",
    "            j= 0\n",
    "            i=i+1\n",
    "    plt.subplots_adjust(bottom=-0.5, top=1.5)\n",
    "    plt.show()"
   ]
  },
  {
   "cell_type": "code",
   "execution_count": null,
   "metadata": {},
   "outputs": [],
   "source": [
    "list_cluster_method = ['KMeans',\"MeanShift\",\"MiniBatchKmeans\",\"DBScan\",\"Spectral\",\"AffinityPropagation\",\"Birch\",\"Gaussian_Mixture\"]\n",
    "# For Graph display \n",
    "no_columns = 2\n",
    "no_rows = 4\n",
    "# NOT all algorithms require this parameter\n",
    "n_clusters= 3\n",
    "bandwidth = 0.1 \n",
    "# eps for DBSCAN\n",
    "eps = 0.3\n",
    "## Damping and perference for Affinity Propagation clustering method\n",
    "damping = 0.9\n",
    "preference = -200\n",
    "input_data = {'n_clusters' :  n_clusters, 'eps' : eps,'bandwidth' : bandwidth, 'damping' : damping, 'preference' : preference}"
   ]
  },
  {
   "cell_type": "code",
   "execution_count": null,
   "metadata": {},
   "outputs": [],
   "source": [
    "startClusteringProcess(list_cluster_method,input_data,no_columns,df_train)"
   ]
  }
 ],
 "metadata": {
  "kernelspec": {
   "display_name": "Python 3",
   "language": "python",
   "name": "python3"
  },
  "language_info": {
   "codemirror_mode": {
    "name": "ipython",
    "version": 3
   },
   "file_extension": ".py",
   "mimetype": "text/x-python",
   "name": "python",
   "nbconvert_exporter": "python",
   "pygments_lexer": "ipython3",
   "version": "3.7.3"
  }
 },
 "nbformat": 4,
 "nbformat_minor": 2
}
