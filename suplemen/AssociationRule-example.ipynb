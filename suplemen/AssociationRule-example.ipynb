{
 "cells": [
  {
   "cell_type": "markdown",
   "metadata": {},
   "source": [
    "# Case Study - Apriori"
   ]
  },
  {
   "cell_type": "markdown",
   "metadata": {},
   "source": [
    "Head of Marketing xyz.com meminta Anda untuk mengimplementasikan mesin rekomendasi berdasarkan analisis market basket yang telah Anda pelajari sebelumnya.\n",
    "\n",
    "Jika sebelumnya Anda hanya bermain-main dengan data yang ukurannya kecil, kini saatnya Anda bekerja dengan data yang sesungguhnya.\n",
    "Anda memutuskan untuk membangun model Aprioari dari transaksi 1 bulan terakhir.\n",
    "Setelah mengeksplorasi data di database transaction, Anda meng-export data tersebut ke dalam sebuah text file dengan nama `market_basket.txt`.\n",
    "\n",
    "Data yang akan Anda proses ini memiliki dimensi 29475 x 10340.\n",
    "Artinya, ada lebih dari 29 ribu transaksi dengan total 10 ribu lebih barang.\n",
    "Masing - masing baris pada file menandakan satu transaksi.\n",
    "Sedangkan angka yang tertulis menunjukkan ID barang.\n",
    "\n",
    "Contoh:\n",
    "```\n",
    "29,27,28\n",
    "30,31,32\n",
    "45,44,35,36\n",
    "45,3,36\n",
    "```\n",
    "\n",
    "- Transaksi ke-1, barang yang dibeli adalah id barang 29, 27, dan 28.\n",
    "- Transaksi ke-2, barang yang dibeli adalah id barang 30, 31, dan 32.\n",
    "- dst.\n",
    "\n",
    "Karena dimensi datanya yang cukup besar, Anda tidak bisa membuat matrix ukuran mxn (m = jumlah transaksi, n=jumlah barang) karena akan menghabiskan memory komputer Anda.\n",
    "Namun Anda tahu bahwa matrix tersebut akan memiliki nilai mayoritas 0.\n",
    "Maka Anda bisa menggunakan sparse matrix.\n",
    "\n",
    "Untuk membuat sparse matrix Anda harus menggunakan library Scipy.\n",
    "Untuk lebih jelasnya bisa dibaca di laman berikut [https://docs.scipy.org/doc/scipy/reference/sparse.html](https://docs.scipy.org/doc/scipy/reference/sparse.html)"
   ]
  },
  {
   "cell_type": "code",
   "execution_count": 87,
   "metadata": {},
   "outputs": [],
   "source": [
    "import numpy as np\n",
    "from scipy.sparse import csc_matrix \n",
    "\n",
    "\n",
    "rows = []\n",
    "columns = []\n",
    "data = []\n",
    "\n",
    "# baca data dari text file\n",
    "with open(\"market_basket.txt\", 'r') as f:\n",
    "    for i, line in enumerate(f):\n",
    "        line = line.strip()\n",
    "        \n",
    "        for x in np.unique(line.split(',')):\n",
    "            rows.append(i)\n",
    "            columns.append(int(x))\n",
    "            data.append(1)\n",
    "\n",
    "data_sparse = csc_matrix((data, (rows, columns)), shape=(max(rows) + 1, max(columns) + 1), dtype=np.uint8)"
   ]
  },
  {
   "cell_type": "markdown",
   "metadata": {},
   "source": [
    "Selanjutnya Anda tinggal mengikuti langkah - langkah yang sama dengan yang pernah Anda pelajari sebelumnya.\n"
   ]
  },
  {
   "cell_type": "code",
   "execution_count": 82,
   "metadata": {
    "scrolled": false
   },
   "outputs": [
    {
     "data": {
      "text/plain": [
       "Counter({(29,): 3644,\n",
       "         (33,): 587,\n",
       "         (35,): 3322,\n",
       "         (36,): 13226,\n",
       "         (38,): 2065,\n",
       "         (45,): 8024,\n",
       "         (107,): 853,\n",
       "         (165,): 628,\n",
       "         (33, 35): 511,\n",
       "         (35, 36): 1387,\n",
       "         (35, 165): 586,\n",
       "         (35, 107): 812,\n",
       "         (35, 45): 656,\n",
       "         (36, 38): 1374,\n",
       "         (36, 45): 4610,\n",
       "         (36, 29): 1113,\n",
       "         (38, 45): 603,\n",
       "         (45, 29): 856})"
      ]
     },
     "metadata": {},
     "output_type": "display_data"
    },
    {
     "data": {
      "text/plain": [
       "defaultdict(set,\n",
       "            {1: {(29,), (33,), (35,), (36,), (38,), (45,), (107,), (165,)},\n",
       "             2: {(33, 35),\n",
       "              (35, 36),\n",
       "              (35, 45),\n",
       "              (35, 107),\n",
       "              (35, 165),\n",
       "              (36, 29),\n",
       "              (36, 38),\n",
       "              (36, 45),\n",
       "              (38, 45),\n",
       "              (45, 29)},\n",
       "             3: set()})"
      ]
     },
     "metadata": {},
     "output_type": "display_data"
    }
   ],
   "source": [
    "from collections import defaultdict, Counter\n",
    "from itertools import combinations\n",
    "\n",
    "\n",
    "# convert sparse matrix ke numpy array\n",
    "data = data_sparse.toarray()\n",
    "\n",
    "\n",
    "# definisikan minimum support\n",
    "minimum_support = 500\n",
    "\n",
    "\n",
    "###############################\n",
    "# inisialisasi variabel\n",
    "###############################\n",
    "\n",
    "# frequent_itemsets berupa dictionary\n",
    "# key: jumlah item di itemset 1, 2, ... dst\n",
    "# value: set yang berisi itemset\n",
    "# itemset : tuple(id_barang1, id_barang2, dst)\n",
    "# kenapa set? karena kita harus memastikan kumpulan itemset yang unik\n",
    "frequent_itemsets = defaultdict(set)\n",
    "\n",
    "\n",
    "# support berupa defaultdict yang valuenya bertipe integer\n",
    "# menggunakan built-in class Counter\n",
    "# Counter == defaultdict(int)\n",
    "support = Counter()\n",
    "\n",
    "\n",
    "###############################\n",
    "# langkah 1\n",
    "###############################\n",
    "\n",
    "# 1.1. hitung frekuensi itemset - itemset dengan jumlah item = 1\n",
    "frequency = data.sum(axis=0)\n",
    "\n",
    "# 1.2. cek jika frekuensi tiap itemset >= minimum support\n",
    "# maka masukkan ke dalam variabel frequent_itemsets\n",
    "for item, count in enumerate(frequency):\n",
    "    if count >= minimum_support:\n",
    "        support[(item,)] = count\n",
    "        frequent_itemsets[1].add((item,))\n",
    "        \n",
    "# display(support)\n",
    "# display(frequent_itemsets)\n",
    "        \n",
    "        \n",
    "###############################\n",
    "# langkah 2\n",
    "# hitung frekuensi itemset dengan jumlah item = 2, 3, dst\n",
    "###############################\n",
    "\n",
    "k = 2\n",
    "while frequent_itemsets[k - 1]:\n",
    "    # 2.1. cari kandidat itemset dengan jumlah item k\n",
    "    ids = []\n",
    "    for itemset in frequent_itemsets[k - 1]:\n",
    "        for itemid in itemset:\n",
    "            ids.append(itemid)\n",
    "    ids = list(set(ids))\n",
    "    itemsets = combinations(ids, k)\n",
    "    \n",
    "    # tidak efisien\n",
    "    # itemsets = combinations(range(10310), k)\n",
    "\n",
    "    # 2.2. hitung frekensi masing2 untuk masing - masing kandidat itemset yang muncul di data transaksi\n",
    "    for itemset in itemsets:\n",
    "        \n",
    "        # 2.2.1. hitung frekuensi\n",
    "        frequency = np.argwhere(data[:, itemset].sum(axis=1) == len(itemset)).shape[0]\n",
    "        \n",
    "        # 2.2.2. cek apakah kandidat itemset memenuhi minimum support\n",
    "        if frequency >= minimum_support:\n",
    "            support[itemset] += frequency\n",
    "            frequent_itemsets[k].add(itemset)\n",
    "\n",
    "    k += 1\n",
    "\n",
    "display(support)\n",
    "display(frequent_itemsets)"
   ]
  },
  {
   "cell_type": "code",
   "execution_count": 92,
   "metadata": {},
   "outputs": [
    {
     "data": {
      "text/plain": [
       "{(33,): {35}, (38,): {36}, (107,): {35}, (165,): {35}}"
      ]
     },
     "metadata": {},
     "output_type": "display_data"
    }
   ],
   "source": [
    "minimum_confidence = 0.6\n",
    "rules = {}\n",
    "k = 2\n",
    "while frequent_itemsets[k]:\n",
    "    \n",
    "    # untuk setiap itemset dengan jumlah item k\n",
    "    for itemset in frequent_itemsets[k]:\n",
    "        \n",
    "        # generate subset\n",
    "        # dengan jumlah item 1, 2, dst\n",
    "        for i in range(1, len(itemset)):\n",
    "            subsets = combinations(itemset, i)\n",
    "            \n",
    "            # di tiap subset\n",
    "            for subset in subsets:\n",
    "                \n",
    "                # cek apakah probability lebih besar daripada minimum confidence\n",
    "                if support[itemset] / support[subset] >= minimum_confidence:\n",
    "                    rules[subset] = set(itemset) - set(subset)\n",
    "            \n",
    "    k += 1\n",
    "    \n",
    "display(rules)"
   ]
  },
  {
   "cell_type": "markdown",
   "metadata": {},
   "source": [
    "## Quiz\n",
    "\n",
    "1. Tampilkan beberapa sampel input-output rekomendasi\n",
    "2. Bagaimana menurut Anda kualitas rekomendasi yang dihasilkan? \n",
    "3. Apa yang mempengaruhi hasil rekomendasi model Anda tersebut?\n",
    "4. Sebutkan beberapa kelemahan dari algoritma Apriori\n",
    "5. Bagaimana strategi Anda untuk untuk memperbaiki kekurangan - kekurangan tersebut\n"
   ]
  },
  {
   "cell_type": "code",
   "execution_count": null,
   "metadata": {},
   "outputs": [],
   "source": []
  }
 ],
 "metadata": {
  "kernelspec": {
   "display_name": "Python 3",
   "language": "python",
   "name": "python3"
  },
  "language_info": {
   "codemirror_mode": {
    "name": "ipython",
    "version": 3
   },
   "file_extension": ".py",
   "mimetype": "text/x-python",
   "name": "python",
   "nbconvert_exporter": "python",
   "pygments_lexer": "ipython3",
   "version": "3.7.0"
  }
 },
 "nbformat": 4,
 "nbformat_minor": 2
}
