{
 "cells": [
  {
   "cell_type": "markdown",
   "metadata": {},
   "source": [
    "# Linear Model for Regression"
   ]
  },
  {
   "cell_type": "markdown",
   "metadata": {},
   "source": [
    "Topik ini pasti sudah sangat familiar bagi Anda, apalagi buat Anda yang memiliki background ilmu Statistika.\n",
    "Pada bagian ini kita hanya akan fokus pada linear model pada kasus regresi, dan bagaimana implementasinya di Python.\n",
    "\n",
    "Sebagai contoh, kita mempunyai data dummy sebagai berikut:"
   ]
  },
  {
   "cell_type": "code",
   "execution_count": 2,
   "metadata": {},
   "outputs": [
    {
     "name": "stdout",
     "output_type": "stream",
     "text": [
      "[342 384 295 293 347 460 420 453 465 312 179 409 462 276 481 382 335 271\n",
      " 422 269]\n",
      "[213 330 150 162 187 268 300 295 302 167 161 226 327 219 335 251 203 152\n",
      " 259 150]\n"
     ]
    },
    {
     "data": {
      "image/png": "[encoded data removed]",
      "text/plain": [
       "<Figure size 432x288 with 1 Axes>"
      ]
     },
     "metadata": {},
     "output_type": "display_data"
    }
   ],
   "source": [
    "%matplotlib inline\n",
    "import numpy as np\n",
    "import matplotlib.pyplot as plt\n",
    "\n",
    "\n",
    "# script untuk generate data dummy\n",
    "# variabel view (independen)\n",
    "# variabel sold (dependen)\n",
    "view = np.random.randint(150, 500, 20, dtype=np.int)\n",
    "sold = np.random.normal(view * 0.65 + 10, 45).astype(np.int)\n",
    "\n",
    "print(view)\n",
    "print(sold)\n",
    "\n",
    "\n",
    "# menampilkan data dengan scatter plot\n",
    "plt.scatter(view, sold)\n",
    "plt.title(\"View vs Sold\")\n",
    "plt.xlabel(\"Jumlah View\")\n",
    "plt.ylabel(\"Jumlah terbeli\")\n",
    "plt.show()"
   ]
  },
  {
   "cell_type": "markdown",
   "metadata": {},
   "source": [
    "Data tersebut terdiri dari 2 variabel.\n",
    "Kolom pertama sebagai variabel independen dan kolom kedua sebagai variabel yang nilainya akan kita prediksi berdasarkan inputan nilai variabel independen.\n",
    "\n",
    "Pada kasus nyata, kita tidak tahu relasi sebenernya antar variabel, apakah linear atau non linear.\n",
    "Untuk contoh kasus ini, asumsi Anda meyakini bahwa kedua variabel tersebut memiliki relasi linear (dan memang seperti itu).\n",
    "Kita akan mencoba memodelkan kedua variabel tersebut dengan linear model.\n",
    "\n",
    "$$\n",
    "\\begin{aligned}\n",
    "y & = w_0 + w_1 x + \\epsilon \\\\\n",
    "\\mathbf{y} & = \\mathbf{X} \\mathbf{w} + \\mathbf{\\epsilon}\n",
    "\\end{aligned}\n",
    "$$\n",
    "\n",
    "dimana:\n",
    "- $y$ adalah variabel `sold`.\n",
    "- $x$ adalah variabel `view`.\n",
    "- dan $\\epsilon$ adalah random error merepresentasikan faktor2 lain yang tidak dipertimbahkan dalam simmpel model ini.\n",
    "\n",
    "Idenya adalah, jika mengetahui nilai vektor $\\mathbf{w}$, maka kita bisa menghitung prediksi nilai $y$ jika diberikan nilai input $x$.\n",
    "\n",
    "**Lalu bagaimana kita mencari nilai vektor `w`?**\n",
    "\n",
    "Pada umumnya, paradigma yang dilakukan dalam aplikasi machine learning adalah sebagai berikut:\n",
    "1. Pengumpulan data\n",
    "2. Mendefinisikan cost function\n",
    "3. Membangun algoritma yang mampu meminimalkan fungsi cost tersebut\n",
    "\n",
    "Hal ini juga bisa kita terapkan dalam kasus yang kita hadapi sekarang.\n",
    "Berapapun nilai dari vektor $\\mathbf{w}$ akan memberikan hasil prediksi $y$.\n",
    "Jadi kita bisa saja menggunakan nilai random untuk mengisi vektor $\\mathbf{w}$.\n",
    "Yang sebenarnya ingin kita ketahui adalah seberapa akurat hasil prediksi kita jika diberikan nilai vektor $\\mathbf{w}$. \n",
    "Atau lebih spesifiknya, kita perlu menghitung total error yang dihasilkan dari seluruh pasangan input-output.\n",
    "\n",
    "Fungsi cost yang bisa kita gunakan dalam kasus ini adalah Sum Squared Error (SSE).\n",
    "\n",
    "$$\n",
    "\\begin{aligned}\n",
    "\\text{SSE} & = \\sum (t_i - y_i)^2 \\\\\n",
    "\\end{aligned}\n",
    "$$\n",
    "\n",
    "Idealnya, kita menginginkan error yang didapat sekecil mungkin.\n",
    "Sehingga kita akan mendapatkan nilai vektor $\\mathbf{w}$ yang optimum."
   ]
  },
  {
   "cell_type": "markdown",
   "metadata": {},
   "source": [
    "Setelah kita memiliki fungsi cost, langkah selanjutnya adalah kita merumuskan algoritma yang bisa meminimalkan fungsi cost tersebut.\n",
    "Dengan bantuan Aljabar Linear, kita bisa lakukan dengan mencari persamaan turunan terhadap variabel `w` kemudian set nilai persamaan tersebut `= 0`.\n",
    "Maka kita bisa mendapatkan analytical solution nilai `w` yang optimal.\n",
    "Yaitu,\n",
    "\n",
    "$$\n",
    "\\mathbf{w} = (\\mathbf{X}^\\intercal \\mathbf{X})^{-1} \\mathbf{X}^\\intercal \\mathbf{t}\n",
    "$$\n",
    "\n",
    "Jika anda tertarik pada detail langkah - langkah penurunan fungsinya, anda bisa merujuk pada tautan berikut [https://en.wikipedia.org/wiki/Linear_least_squares_(mathematics)](https://en.wikipedia.org/wiki/Linear_least_squares)"
   ]
  },
  {
   "cell_type": "markdown",
   "metadata": {},
   "source": [
    "## Linear Regression di Scikit Learn"
   ]
  },
  {
   "cell_type": "markdown",
   "metadata": {},
   "source": [
    "Scikit-learn telah menyediakan modul untuk standar linear regression.\n",
    "Detailnya dapat dilihat di tautan berikut ini [http://scikit-learn.org/stable/modules/generated/sklearn.linear_model.LinearRegression.html#sklearn.linear_model.LinearRegression](http://scikit-learn.org/stable/modules/generated/sklearn.linear_model.LinearRegression.html#sklearn.linear_model.LinearRegression)"
   ]
  },
  {
   "cell_type": "code",
   "execution_count": 4,
   "metadata": {},
   "outputs": [
    {
     "data": {
      "image/png": "[encoded data removed]",
      "text/plain": [
       "<Figure size 432x288 with 1 Axes>"
      ]
     },
     "metadata": {},
     "output_type": "display_data"
    }
   ],
   "source": [
    "from sklearn.linear_model import LinearRegression\n",
    "\n",
    "\n",
    "# instansiasi model linear regression\n",
    "# dengan menggunakan default parameter\n",
    "linreg = LinearRegression()\n",
    "\n",
    "\n",
    "# menghitung nilai optimum vektor w\n",
    "# dengan metode ordinary least squares\n",
    "# seperti yang telah kita bahas di atas\n",
    "# .reshape(-1, 1) transform 1D array ke 2D array\n",
    "# jumlah baris x 1 kolom\n",
    "linreg.fit(view.reshape(-1, 1), sold)\n",
    "\n",
    "# menghitung hasil prediksi\n",
    "y = linreg.predict(view.reshape(-1, 1))\n",
    "\n",
    "\n",
    "# menampilkan hasil prediksi\n",
    "plt.scatter(view, sold)\n",
    "plt.plot(view, y, color=\"red\")\n",
    "plt.title(\"View vs Sold\")\n",
    "plt.xlabel(\"Jumlah View\")\n",
    "plt.ylabel(\"Jumlah terbeli\")\n",
    "plt.show()"
   ]
  },
  {
   "cell_type": "code",
   "execution_count": 5,
   "metadata": {},
   "outputs": [
    {
     "name": "stdout",
     "output_type": "stream",
     "text": [
      "Koefisien w_1 ...: [0.67701606]\n",
      "Intercept (w_0): -12.805276741541405\n"
     ]
    }
   ],
   "source": [
    "# untuk menampilkan model yang dihasilkan\n",
    "# nilai optimum vektor w\n",
    "print(\"Koefisien w_1 ...:\", linreg.coef_)\n",
    "print(\"Intercept (w_0):\", linreg.intercept_)"
   ]
  },
  {
   "cell_type": "code",
   "execution_count": 6,
   "metadata": {},
   "outputs": [
    {
     "data": {
      "text/plain": [
       "21305.305010494583"
      ]
     },
     "execution_count": 6,
     "metadata": {},
     "output_type": "execute_result"
    }
   ],
   "source": [
    "# untuk menghitung squared error\n",
    "np.square(y - sold).sum()"
   ]
  },
  {
   "cell_type": "markdown",
   "metadata": {},
   "source": [
    "## Quiz\n",
    "\n",
    "Apa yang dilakukan oleh modul `LinearRegression` di scikit-learn adalah sebenarnya melakukan operasi $\\mathbf{w} = (\\mathbf{X}^\\intercal \\mathbf{X})^{-1} \\mathbf{X}^\\intercal \\mathbf{t}$, untuk mendapatkan nilai vektor $\\mathbf{w}$.\n",
    "Menurut Anda, apa kelemahan dari metode tersebut? dan adakah hubungannya dengan jumlah data yang diproses?\n",
    "\n",
    "\n"
   ]
  },
  {
   "cell_type": "code",
   "execution_count": null,
   "metadata": {},
   "outputs": [],
   "source": []
  }
 ],
 "metadata": {
  "kernelspec": {
   "display_name": "Python 3",
   "language": "python",
   "name": "python3"
  },
  "language_info": {
   "codemirror_mode": {
    "name": "ipython",
    "version": 3
   },
   "file_extension": ".py",
   "mimetype": "text/x-python",
   "name": "python",
   "nbconvert_exporter": "python",
   "pygments_lexer": "ipython3",
   "version": "3.7.0"
  }
 },
 "nbformat": 4,
 "nbformat_minor": 2
}
