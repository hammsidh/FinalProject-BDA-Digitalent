{
 "cells": [
  {
   "cell_type": "markdown",
   "metadata": {},
   "source": [
    "# Model Evaluation"
   ]
  },
  {
   "cell_type": "markdown",
   "metadata": {},
   "source": [
    "Scikit-learn menyediakan berbagai metric yang bisa dipakai untuk mengevaluasi model Regression.\n",
    "Beberapa diantaranya adalah:\n",
    "\n",
    "- Mean absolute error\n",
    "- Mean squared error\n",
    "- R2 score\n",
    "- dsb.\n",
    "\n",
    "Referensi detail mengenai metric - metric tersebut bisa dilihat pada tautan berikut ini [http://scikit-learn.org/stable/modules/model_evaluation.html#regression-metrics](http://scikit-learn.org/stable/modules/model_evaluation.html#regression-metrics)\n",
    "\n",
    "Pada bagian ini kita akan menunjukkan bagaiman menggunakan metric tersebut.\n",
    "Misalkan kita memiliki target dan hasil prediksi seperti di bawah ini:"
   ]
  },
  {
   "cell_type": "code",
   "execution_count": 1,
   "metadata": {},
   "outputs": [],
   "source": [
    "%matplotlib inline\n",
    "import numpy as np\n",
    "\n",
    "\n",
    "# misalkan kita mempunya target dan hasil prediksi seperti di bawah ini\n",
    "target = [ 0.   ,  0.643,  0.985,  0.866,  0.342, -0.342, -0.866, -0.985, -0.643, -0.   ]\n",
    "prediction = [ 0.154,  0.731,  1.02 ,  0.913,  0.466, -0.148, -0.697, -0.94 , -0.676,  0.199]"
   ]
  },
  {
   "cell_type": "code",
   "execution_count": 3,
   "metadata": {},
   "outputs": [
    {
     "name": "stdout",
     "output_type": "stream",
     "text": [
      "MAE: 0.10880000000000004\n",
      "MSE: 0.015918200000000004\n",
      "R2: 0.9646355584347954\n"
     ]
    }
   ],
   "source": [
    "from sklearn.metrics import mean_absolute_error\n",
    "from sklearn.metrics import mean_squared_error\n",
    "from sklearn.metrics import r2_score\n",
    "\n",
    "\n",
    "# hitung mean absolute error\n",
    "mae = mean_absolute_error(target, prediction)\n",
    "print(\"MAE:\", mae)\n",
    "\n",
    "# hitung mean squared error\n",
    "mse = mean_squared_error(target, prediction)\n",
    "print(\"MSE:\", mse)\n",
    "\n",
    "# hitung r2\n",
    "r2 = r2_score(target, prediction)\n",
    "print(\"R2:\", r2)"
   ]
  }
 ],
 "metadata": {
  "kernelspec": {
   "display_name": "Python 3",
   "language": "python",
   "name": "python3"
  },
  "language_info": {
   "codemirror_mode": {
    "name": "ipython",
    "version": 3
   },
   "file_extension": ".py",
   "mimetype": "text/x-python",
   "name": "python",
   "nbconvert_exporter": "python",
   "pygments_lexer": "ipython3",
   "version": "3.7.0"
  }
 },
 "nbformat": 4,
 "nbformat_minor": 2
}
